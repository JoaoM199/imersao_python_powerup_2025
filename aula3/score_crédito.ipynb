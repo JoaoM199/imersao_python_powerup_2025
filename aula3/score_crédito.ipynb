{
 "cells": [
  {
   "cell_type": "markdown",
   "id": "b661a61c",
   "metadata": {},
   "source": [
    "# Situação problema\n",
    "Você foi contratado por um banco para conseguir definir o score de crédito dos clientes. Você precisa analisar todos os clientes do banco e, com base nessa análise, criar um modelo que consiga ler as informações do cliente e dizer automaticamente o score de crédito dele: Ruim, Ok, Bom"
   ]
  },
  {
   "cell_type": "markdown",
   "id": "57d22fbd",
   "metadata": {},
   "source": [
    "Passo 0: Entender o desafio da empresa: <br>\n",
    "    Nota do cliente:<br>\n",
    "    * Bom<br>\n",
    "    * Ok<br>\n",
    "    * Ruim<br>\n",
    "Passo 1: Importar base de dados <br>\n",
    "Passo 2: Preparar dataframe para a IA <br>\n",
    "Passo 3: Criar modelos de IA <br>\n",
    "Passo 5: Escolher melhor modelo <br>\n",
    "Passo 6: Implementar no projeto para novas previsões <br>"
   ]
  },
  {
   "cell_type": "code",
   "execution_count": null,
   "id": "f697ed04",
   "metadata": {},
   "outputs": [],
   "source": [
    "# Passo 1 - Importar base de dados\n",
    "import pandas as pd\n",
    "\n",
    "df = pd.read_csv(\"clientes.csv\")\n",
    "display(df)"
   ]
  },
  {
   "cell_type": "code",
   "execution_count": null,
   "id": "26140223",
   "metadata": {},
   "outputs": [],
   "source": [
    "# Tratamento dos dados para IA\n",
    "\n",
    "## Converter tabelas de texto para valores numéricos\n",
    "from sklearn.preprocessing import LabelEncoder\n",
    "display(df.info())\n",
    "codificador_profissao = LabelEncoder()\n",
    "codificador_mix_credito = LabelEncoder()\n",
    "codificador_comportamento = LabelEncoder()\n",
    "\n",
    "df[\"profissao\"] = codificador_profissao.fit_transform(df[\"profissao\"])\n",
    "df[\"mix_credito\"] = codificador_mix_credito.fit_transform(df[\"mix_credito\"])\n",
    "df[\"comportamento_pagamento\"] = codificador_comportamento.fit_transform(df[\"mix_credito\"])\n",
    "\n",
    "display(df.info())\n"
   ]
  },
  {
   "cell_type": "code",
   "execution_count": null,
   "id": "3582c52a",
   "metadata": {},
   "outputs": [],
   "source": [
    "# Preparando objetos para as IA\n",
    "y = df[\"score_credito\"] # Objeto de interesse\n",
    "x = df.drop(columns=[\"score_credito\",\"id_cliente\"]) # Dados comparativos para a análise\n",
    "\n",
    "# Preparar informações para treino da IA\n",
    "from sklearn.model_selection import train_test_split\n",
    "\n",
    "x_training, x_test, y_training, y_test = train_test_split(x, y, test_size=0.4)"
   ]
  },
  {
   "cell_type": "code",
   "execution_count": null,
   "id": "b9747de1",
   "metadata": {},
   "outputs": [],
   "source": [
    "# Passo 3 - Treinar a AI\n",
    "\n",
    "# Importando modelos e criando a IA\n",
    "from sklearn.ensemble import RandomForestClassifier\n",
    "from sklearn.neighbors import KNeighborsClassifier\n",
    "\n",
    "modelo_arvore_decisao = RandomForestClassifier()\n",
    "modelo_kne = KNeighborsClassifier()\n",
    "\n",
    "# Treinando modelos\n",
    "modelo_arvore_decisao.fit(x_training, y_training)\n",
    "modelo_kne.fit(x_training, y_training)\n"
   ]
  },
  {
   "cell_type": "code",
   "execution_count": null,
   "id": "634f400e",
   "metadata": {},
   "outputs": [],
   "source": [
    "# Escolhendo melhor modelo\n",
    "previsao_arvore_decisao = modelo_arvore_decisao.predict(x_test)\n",
    "previsao_kne = modelo_kne.predict(x_test)\n",
    "\n",
    "# Acurância - Eficácia das IAs para resolução do problema\n",
    "from sklearn.metrics import accuracy_score\n",
    "display(accuracy_score(y_test, previsao_arvore_decisao))\n",
    "display(accuracy_score(y_test, previsao_kne))"
   ]
  },
  {
   "cell_type": "code",
   "execution_count": null,
   "id": "f76cdb2d",
   "metadata": {},
   "outputs": [],
   "source": [
    "# Passo 5 - Previsões de novos clientes\n",
    "## Importando novos dados\n",
    "df_new = pd.read_csv('novos_clientes.csv')\n",
    "display(df_new)\n",
    "\n",
    "# Transformando valores\n",
    "df_new[\"profissao\"] = codificador_profissao.fit_transform(df_new[\"profissao\"])\n",
    "df_new[\"mix_credito\"] = codificador_mix_credito.fit_transform(df_new[\"mix_credito\"])\n",
    "df_new[\"comportamento_pagamento\"] = codificador_comportamento.fit_transform(df_new[\"comportamento_pagamento\"])\n",
    "\n",
    "display(df_new)\n",
    "\n",
    "nova_previsao = modelo_arvore_decisao.predict(df_new)\n",
    "display(nova_previsao)"
   ]
  }
 ],
 "metadata": {
  "kernelspec": {
   "display_name": ".venv",
   "language": "python",
   "name": "python3"
  },
  "language_info": {
   "codemirror_mode": {
    "name": "ipython",
    "version": 3
   },
   "file_extension": ".py",
   "mimetype": "text/x-python",
   "name": "python",
   "nbconvert_exporter": "python",
   "pygments_lexer": "ipython3",
   "version": "3.11.9"
  }
 },
 "nbformat": 4,
 "nbformat_minor": 5
}
