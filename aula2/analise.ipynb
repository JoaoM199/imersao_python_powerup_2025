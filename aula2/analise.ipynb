{
 "cells": [
  {
   "cell_type": "markdown",
   "id": "12488f50",
   "metadata": {},
   "source": []
  },
  {
   "cell_type": "code",
   "execution_count": null,
   "id": "bbeb2a24",
   "metadata": {},
   "outputs": [],
   "source": [
    "# Importando bibliotecas\n",
    "import pandas as pd\n",
    "import plotly.express as px"
   ]
  },
  {
   "cell_type": "code",
   "execution_count": null,
   "id": "640d0ea3",
   "metadata": {},
   "outputs": [],
   "source": [
    "# PASSOS PARA REALIZAÇÃO DA ANÁLISE\n",
    "# Passo 1: Importar base de dados\n",
    "df = pd.read_csv('cancelamentos.csv')\n",
    "df"
   ]
  },
  {
   "cell_type": "code",
   "execution_count": null,
   "id": "dde58626",
   "metadata": {},
   "outputs": [],
   "source": [
    "# Passo 2: Visualizar base de dados\n",
    "df = df.drop(columns='CustomerID')  # Apagar coluna CustomerID\n",
    "display(df)"
   ]
  },
  {
   "cell_type": "code",
   "execution_count": null,
   "id": "4b05ec29",
   "metadata": {},
   "outputs": [],
   "source": [
    "# Passo 3: Resolver problemas da base de dados\n",
    "display(df.info())  #Exibe informações da tabela\n",
    "df = df.dropna()    # Apaga linhas com valores vazios da tabela, pois estes atrapalham a análise\n",
    "display(df.info())"
   ]
  },
  {
   "cell_type": "code",
   "execution_count": null,
   "id": "bc01d184",
   "metadata": {},
   "outputs": [],
   "source": [
    "# Passo 4: Análise Inicial\n",
    "display(df[\"cancelou\"].value_counts(normalize=True)) # Compara os dados de quem cancelou e não cancelou em percentual\n"
   ]
  },
  {
   "cell_type": "code",
   "execution_count": null,
   "id": "50218582",
   "metadata": {},
   "outputs": [],
   "source": [
    "# Passo 5: Interpretação da análise e encontrar soluções para os problemas\n",
    "display(df)\n",
    "'''\n",
    "# Exibir em gráficos\n",
    "fig = px.histogram(df, x=\"duracao_contrato\", color=\"cancelou\") # Relacionado com a idade\n",
    "fig.show()\n",
    "'''\n",
    "\n",
    "# Automatização\n",
    "for coluna in df.columns:\n",
    "    # Exibir em gráficos\n",
    "    fig = px.histogram(df, x=coluna, color=\"cancelou\", color_discrete_sequence=['red','green']) # Relacionado com a idade\n",
    "    fig.show()\n"
   ]
  },
  {
   "cell_type": "code",
   "execution_count": null,
   "id": "f87486ff",
   "metadata": {},
   "outputs": [],
   "source": []
  }
 ],
 "metadata": {
  "kernelspec": {
   "display_name": ".venv",
   "language": "python",
   "name": "python3"
  },
  "language_info": {
   "codemirror_mode": {
    "name": "ipython",
    "version": 3
   },
   "file_extension": ".py",
   "mimetype": "text/x-python",
   "name": "python",
   "nbconvert_exporter": "python",
   "pygments_lexer": "ipython3",
   "version": "3.11.9"
  }
 },
 "nbformat": 4,
 "nbformat_minor": 5
}
